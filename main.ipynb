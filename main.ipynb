{
 "cells": [
  {
   "cell_type": "code",
   "execution_count": 2,
   "metadata": {},
   "outputs": [],
   "source": [
    "# a toy example --> 4 lobes, each one has 4 nodes, so 4 matrices 4x4\n",
    "# generate four 4x4 random matrices with elements between 0 and 1 included\n",
    "import os\n",
    "import numpy as np\n",
    "import matplotlib.pyplot as plt\n",
    "from libraries.graphs import graph_draw\n",
    "from G_matrices import healthy_matrices\n",
    "from k_operator import tensor as k"
   ]
  },
  {
   "cell_type": "code",
   "execution_count": 3,
   "metadata": {},
   "outputs": [],
   "source": [
    "output_dir = \"graphs\" # create a directory to save the plots\n",
    "os.makedirs(output_dir, exist_ok=True)\n",
    "\n",
    "if not os.path.exists('data'): # create the data directory if it does not exist\n",
    "    os.makedirs('data')"
   ]
  },
  {
   "cell_type": "code",
   "execution_count": 4,
   "metadata": {},
   "outputs": [
    {
     "name": "stdout",
     "output_type": "stream",
     "text": [
      "Saved healthy_a to data/healthy_a.txt\n",
      "Saved healthy_b to data/healthy_b.txt\n",
      "Saved healthy_c to data/healthy_c.txt\n",
      "Saved healthy_d to data/healthy_d.txt\n",
      "Saved k_a to data/k_a.txt\n",
      "Saved k_b to data/k_b.txt\n",
      "Saved k_c to data/k_c.txt\n",
      "Saved k_d to data/k_d.txt\n"
     ]
    }
   ],
   "source": [
    "healthy_names = [\"healthy_a\", \"healthy_b\", \"healthy_c\", \"healthy_d\"]\n",
    "k_names = [\"k_a\", \"k_b\", \"k_c\", \"k_d\"]\n",
    "# save each G matrix to a text file in the data directory\n",
    "for name, matrix in zip(healthy_names, healthy_matrices):\n",
    "    file_path = os.path.join('data', f\"{name}.txt\")\n",
    "    np.savetxt(file_path, matrix)\n",
    "    print(f\"Saved {name} to {file_path}\")\n",
    "\n",
    "# save each matrix K to a text file in the data directory\n",
    "for name, matrix in zip(k_names, k):\n",
    "    file_path = os.path.join('data', f\"{name}.txt\")\n",
    "    np.savetxt(file_path, matrix)\n",
    "    print(f\"Saved {name} to {file_path}\")\n",
    "\n",
    "# plot the graphs with the function graph_draw from deniz (to visualize up to 8 node graphs)\n",
    "for i, (matrix, name) in enumerate(zip(healthy_matrices, healthy_names), 1):\n",
    "    plt.figure(i)\n",
    "    graph_draw(\n",
    "        np.round(matrix, 2),\n",
    "        Directed=False,\n",
    "        Weighted=True,\n",
    "        Index_on=True,\n",
    "        Weight_on=False,\n",
    "    )\n",
    "    plt.title(name)\n",
    "    plt.savefig(os.path.join(output_dir, f\"{name}.png\"))\n",
    "    plt.close()"
   ]
  },
  {
   "cell_type": "code",
   "execution_count": 5,
   "metadata": {},
   "outputs": [
    {
     "name": "stdout",
     "output_type": "stream",
     "text": [
      "a_k_elwise =\n",
      " [[1.    0.285 0.058 0.119]\n",
      " [0.285 1.    0.183 0.268]\n",
      " [0.058 0.183 1.    0.243]\n",
      " [0.119 0.268 0.243 1.   ]] \n",
      "\n",
      "b_k_elwise =\n",
      " [[0.1   0.012 0.031 0.096]\n",
      " [0.012 0.1   0.028 0.096]\n",
      " [0.031 0.028 0.1   0.099]\n",
      " [0.096 0.096 0.099 0.1  ]] \n",
      "\n",
      "c_k_elwise =\n",
      " [[1.   0.85 0.09 0.78]\n",
      " [0.85 1.   0.14 0.58]\n",
      " [0.09 0.14 1.   0.35]\n",
      " [0.78 0.58 0.35 1.  ]] \n",
      "\n",
      "d_k_elwise =\n",
      " [[1.    0.3   0.166 0.602]\n",
      " [0.3   1.    0.261 0.128]\n",
      " [0.166 0.261 1.    0.135]\n",
      " [0.602 0.128 0.135 1.   ]] \n",
      "\n",
      "Saved a_k_elwise to data/a_k_elwise.txt\n",
      "Saved b_k_elwise to data/b_k_elwise.txt\n",
      "Saved c_k_elwise to data/c_k_elwise.txt\n",
      "Saved d_k_elwise to data/d_k_elwise.txt\n"
     ]
    }
   ],
   "source": [
    "# for the first try we defined K-operator symmetric as well, so that the elementwise product generate a matrix that is \n",
    "# symmetric as well and on the graph we have no overlapping of numbers \n",
    "# apply the K-operator to the 4 matrices, element-wise operation\n",
    "\n",
    "elementw_names = [\"a_k_elwise\", \"b_k_elwise\", \"c_k_elwise\", \"d_k_elwise\"]\n",
    "elementw_matrices = [k[i] * healthy_matrices[i] for i in range(4)] # it's a 4x4x4 matrix\n",
    "for name, matrix in zip(elementw_names, elementw_matrices):\n",
    "    print(f\"{name} =\\n\", matrix, \"\\n\")\n",
    "\n",
    "# plot the graphs with the function graph_draw from deniz (to visualize up to 8 node graphs)\n",
    "for i, (matrix, name) in enumerate(zip(elementw_matrices, elementw_names), 1):\n",
    "    plt.figure(i)\n",
    "    graph_draw(\n",
    "        np.round(matrix, 2),\n",
    "        Directed=False,\n",
    "        Weighted=True,\n",
    "        Index_on=True,\n",
    "        Weight_on=False,\n",
    "    )\n",
    "    plt.title(name)\n",
    "    plt.savefig(os.path.join(output_dir, f\"{name}.png\"))\n",
    "    plt.close()\n",
    "\n",
    "# also save each element-wise multiplication matrix to a text file in the data directory\n",
    "for name, matrix in zip(elementw_names, elementw_matrices):\n",
    "    file_path = os.path.join('data', f\"{name}.txt\")\n",
    "    np.savetxt(file_path, matrix)\n",
    "    print(f\"Saved {name} to {file_path}\")"
   ]
  },
  {
   "cell_type": "code",
   "execution_count": 6,
   "metadata": {},
   "outputs": [
    {
     "name": "stdout",
     "output_type": "stream",
     "text": [
      "a_k_matmul =\n",
      " [[1.462 1.661 0.984 1.259]\n",
      " [1.225 1.736 1.163 1.236]\n",
      " [0.814 1.627 1.484 1.405]\n",
      " [1.359 2.018 1.617 1.63 ]] \n",
      "\n",
      "b_k_mat_matmul =\n",
      " [[0.239 0.236 0.258 0.391]\n",
      " [0.239 0.236 0.258 0.391]\n",
      " [0.239 0.236 0.258 0.391]\n",
      " [0.239 0.236 0.258 0.391]] \n",
      "\n",
      "c_k_matmul =\n",
      " [[2.72 2.57 1.58 2.71]\n",
      " [2.72 2.57 1.58 2.71]\n",
      " [2.72 2.57 1.58 2.71]\n",
      " [2.72 2.57 1.58 2.71]] \n",
      "\n",
      "d_k_matmul =\n",
      " [[2.068 1.498 1.57  1.75 ]\n",
      " [1.693 1.689 1.645 1.195]\n",
      " [1.984 1.578 1.562 1.318]\n",
      " [2.547 1.923 1.979 1.865]] \n",
      "\n",
      "Saved a_k_matmul to data/a_k_matmul.txt\n",
      "Saved b_k_mat_matmul to data/b_k_mat_matmul.txt\n",
      "Saved c_k_matmul to data/c_k_matmul.txt\n",
      "Saved d_k_matmul to data/d_k_matmul.txt\n"
     ]
    }
   ],
   "source": [
    "# apply the K-operator to the 4 matrices, row-column product\n",
    "# also here, if K-operator is symmetric, we have a symmetric product \n",
    "\n",
    "rowcolumn_names = [\"a_k_matmul\", \"b_k_mat_matmul\", \"c_k_matmul\", \"d_k_matmul\"]\n",
    "rowcolumn_matrices = [k[i] @ healthy_matrices[i] for i in range(4)] # it's a 4x4x4 matrix\n",
    "for name, matrix in zip(rowcolumn_names, rowcolumn_matrices):\n",
    "    print(f\"{name} =\\n\", matrix, \"\\n\")\n",
    "\n",
    "# plot the graphs with the function graph_draw from deniz (to visualize up to 8 node graphs)\n",
    "for i, (matrix, name) in enumerate(zip(rowcolumn_matrices, rowcolumn_names), 1):\n",
    "    plt.figure(i)\n",
    "    graph_draw(\n",
    "        np.round(matrix, 2),\n",
    "        Directed=False,\n",
    "        Weighted=True,\n",
    "        Index_on=True,\n",
    "        Weight_on=False,\n",
    "    )\n",
    "    plt.title(name)\n",
    "    plt.savefig(os.path.join(output_dir, f\"{name}.png\"))\n",
    "    plt.close()\n",
    "\n",
    "# also save each row by column multiplication matrix to a text file in the data directory\n",
    "for name, matrix in zip(rowcolumn_names, rowcolumn_matrices):\n",
    "    file_path = os.path.join('data', f\"{name}.txt\")\n",
    "    np.savetxt(file_path, matrix)\n",
    "    print(f\"Saved {name} to {file_path}\")"
   ]
  },
  {
   "cell_type": "markdown",
   "metadata": {},
   "source": [
    "We see that the matrix product between symmetric matrices isn't still symmetric."
   ]
  },
  {
   "cell_type": "code",
   "execution_count": 7,
   "metadata": {},
   "outputs": [],
   "source": [
    "# compute the eigenvalues and eigenvectors of product matrices\n",
    "# ELEMENTWISE\n",
    "with open('eigenvalues_and_eigenvectors.txt', 'w') as f:\n",
    "    # ELEMENTWISE\n",
    "    for name, matrix in zip(elementw_names, elementw_matrices):\n",
    "        eigenvalues, eigenvectors = np.linalg.eig(matrix)\n",
    "        f.write(f\"Eigenvalues {name}:\\n\")\n",
    "        f.write(np.array2string(eigenvalues, separator=', ') + '\\n\\n')\n",
    "        f.write(f\"Eigenvectors {name}:\\n\")\n",
    "        f.write(np.array2string(eigenvectors, separator=', ') + '\\n\\n')\n",
    "    \n",
    "    # ROW-COLUMN PRODUCT\n",
    "    for name, matrix in zip(rowcolumn_names, rowcolumn_matrices):\n",
    "        eigenvalues, eigenvectors = np.linalg.eig(matrix)\n",
    "        f.write(f\"Eigenvalues {name}:\\n\")\n",
    "        f.write(np.array2string(eigenvalues, separator=', ') + '\\n\\n')\n",
    "        f.write(f\"Eigenvectors {name}:\\n\")\n",
    "        f.write(np.array2string(eigenvectors, separator=', ') + '\\n\\n')"
   ]
  },
  {
   "cell_type": "code",
   "execution_count": null,
   "metadata": {},
   "outputs": [],
   "source": []
  }
 ],
 "metadata": {
  "kernelspec": {
   "display_name": "Python 3 (ipykernel)",
   "language": "python",
   "name": "python3"
  },
  "language_info": {
   "codemirror_mode": {
    "name": "ipython",
    "version": 3
   },
   "file_extension": ".py",
   "mimetype": "text/x-python",
   "name": "python",
   "nbconvert_exporter": "python",
   "pygments_lexer": "ipython3",
   "version": "3.12.4"
  }
 },
 "nbformat": 4,
 "nbformat_minor": 4
}

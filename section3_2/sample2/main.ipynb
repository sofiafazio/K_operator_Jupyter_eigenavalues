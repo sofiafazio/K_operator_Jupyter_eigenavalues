{
 "cells": [
  {
   "cell_type": "code",
   "execution_count": 3,
   "metadata": {},
   "outputs": [],
   "source": [
    "import os\n",
    "import numpy as np\n",
    "import matplotlib.pyplot as plt\n",
    "import seaborn as sns \n",
    "from libraries.graphs import graph_draw\n",
    "from G_matrix import G\n",
    "from K1_operator import K1"
   ]
  },
  {
   "cell_type": "code",
   "execution_count": 4,
   "metadata": {},
   "outputs": [],
   "source": [
    "output_dir = \"graphs\"  # create a directory to save the plots\n",
    "os.makedirs(output_dir, exist_ok=True)\n",
    "if not os.path.exists(\"data\"):  # create the data directory if it does not exist\n",
    "    os.makedirs(\"data\")"
   ]
  },
  {
   "cell_type": "markdown",
   "metadata": {},
   "source": [
    "## 1. From healthy G and K, compute diseased G by K*G and K@K "
   ]
  },
  {
   "cell_type": "code",
   "execution_count": 5,
   "metadata": {},
   "outputs": [
    {
     "name": "stdout",
     "output_type": "stream",
     "text": [
      "[[0.07 0.2  0.38 0.27]\n",
      " [0.1  0.19 0.35 0.9 ]\n",
      " [0.92 0.68 0.78 0.18]\n",
      " [0.98 0.83 0.09 0.59]]\n",
      "\n",
      "\n",
      "[[1.   0.32 0.36 0.3 ]\n",
      " [0.32 1.   0.82 0.92]\n",
      " [0.36 0.82 1.   0.4 ]\n",
      " [0.3  0.92 0.4  1.  ]]\n"
     ]
    }
   ],
   "source": [
    "# here I suppose to have G and K, simple model, only one matrix 4x4 for the entire brain, I use the same function to \n",
    "# generate both matrices \n",
    "print(K1)\n",
    "print(\"\\n\")\n",
    "print(G)\n",
    "\n",
    "plt.figure(1)\n",
    "graph_draw(np.round(G, 2),\n",
    "        Directed=False,\n",
    "        Weighted=True,\n",
    "        Index_on=True,\n",
    "        Weight_on=False\n",
    "        )\n",
    "plt.title(\"healthy_G\")\n",
    "plt.savefig(os.path.join(output_dir, f\"{\"healthy_G\"}.png\"))\n",
    "plt.close()\n",
    "\n",
    "np.savetxt(os.path.join(\"data\", \"K1.txt\"), K1)\n",
    "np.savetxt(os.path.join(\"data\", \"G.txt\"), G)"
   ]
  },
  {
   "cell_type": "code",
   "execution_count": 6,
   "metadata": {},
   "outputs": [],
   "source": [
    "K1G = K1 * G # elementwise product to compute K \n",
    "K1_at_G_1 = K1 @ G # matrix product to compute K \n",
    "\n",
    "np.savetxt(os.path.join(\"data\", \"K1G.txt\"), K1G)\n",
    "np.savetxt(os.path.join(\"data\", \"K1_at_G_1.txt\"), K1_at_G_1)\n",
    "# to check whether the two operations in python (@ and np.matmul) are really the same\n",
    "# G_at_K1_2 = np.matmul(G, K1)\n",
    "# print(GK1)\n",
    "# print(G_at_K1_1)\n",
    "# print(G_at_K1_2)\n",
    "# print(G_at_K1_1 == G_at_K1_2)\n",
    "\n",
    "plt.figure(2)\n",
    "graph_draw(np.round(K1G, 2),\n",
    "        Directed=False,\n",
    "        Weighted=True,\n",
    "        Index_on=True,\n",
    "        Weight_on=False\n",
    "        )\n",
    "plt.title(\"elementw_KG\")\n",
    "plt.savefig(os.path.join(output_dir, f\"{\"elementw_KG\"}.png\"))\n",
    "plt.close()\n",
    "\n",
    "plt.figure(3)\n",
    "graph_draw(np.round(K1_at_G_1, 2),\n",
    "        Directed=False,\n",
    "        Weighted=True,\n",
    "        Index_on=True,\n",
    "        Weight_on=False\n",
    "        )\n",
    "plt.title(\"rowbycol_KG\")\n",
    "plt.savefig(os.path.join(output_dir, f\"{\"rowbycol_KG\"}.png\"))\n",
    "plt.close()"
   ]
  },
  {
   "cell_type": "code",
   "execution_count": 7,
   "metadata": {},
   "outputs": [],
   "source": [
    "with open('eigenvalues_and_eigenvectors.txt', 'w') as f:\n",
    "    # ELEMENTWISE\n",
    "    \n",
    "    eigenval_K1G, eigenvec_K1G = np.linalg.eig(K1G)\n",
    "    f.write(f\"Eigenvalues {\"elementw_KG\"}:\\n\")\n",
    "    f.write(np.array2string(eigenval_K1G, separator=', ') + '\\n\\n')\n",
    "    f.write(f\"Eigenvectors {\"elementw_KG\"}:\\n\")\n",
    "    f.write(np.array2string(eigenvec_K1G, separator=', ') + '\\n\\n')\n",
    "    \n",
    "    # ROW-COLUMN PRODUCT\n",
    "\n",
    "    eigenval_K1_at_G_1, eigenvec_K1_at_G_1 = np.linalg.eig(K1_at_G_1)\n",
    "    f.write(f\"Eigenvalues {\"rowbycol_KG\"}:\\n\")\n",
    "    f.write(np.array2string(eigenval_K1_at_G_1, separator=', ') + '\\n\\n')\n",
    "    f.write(f\"Eigenvectors {\"rowbycol_KG\"}:\\n\")\n",
    "    f.write(np.array2string(eigenvec_K1_at_G_1, separator=', ') + '\\n\\n')"
   ]
  }
 ],
 "metadata": {
  "kernelspec": {
   "display_name": ".venv",
   "language": "python",
   "name": "python3"
  },
  "language_info": {
   "codemirror_mode": {
    "name": "ipython",
    "version": 3
   },
   "file_extension": ".py",
   "mimetype": "text/x-python",
   "name": "python",
   "nbconvert_exporter": "python",
   "pygments_lexer": "ipython3",
   "version": "3.12.2"
  }
 },
 "nbformat": 4,
 "nbformat_minor": 2
}
